{
 "cells": [
  {
   "cell_type": "code",
   "execution_count": 1,
   "id": "86482c59",
   "metadata": {},
   "outputs": [],
   "source": [
    "import pandas as pd\n",
    "\n",
    "songs_data = pd.read_csv('/Users/suso/BootcampDA/Unit8/kaggle_spotify_dataset.csv')"
   ]
  },
  {
   "cell_type": "code",
   "execution_count": null,
   "id": "ffb9ea63",
   "metadata": {},
   "outputs": [],
   "source": [
    "from sklearn.metrics.pairwise import cosine_similarity\n",
    "\n",
    "X = songs_data[['danceability', 'energy', 'acousticness', 'valence', 'tempo']]\n",
    "\n",
    "song_similarity_matrix = cosine_similarity(X, X)"
   ]
  },
  {
   "cell_type": "code",
   "execution_count": null,
   "id": "d3674b64",
   "metadata": {},
   "outputs": [],
   "source": [
    "def recommend_songs(song_id, similarity_matrix, songs_data, n=5):\n",
    "    song_index = songs_data.index[songs_data['song_id'] == song_id].tolist()[0]\n",
    "    similar_songs = similarity_matrix[song_index].argsort()[::-1][1:n+1]\n",
    "    recommendations = songs_data.iloc[similar_songs]\n",
    "    return recommendations"
   ]
  },
  {
   "cell_type": "code",
   "execution_count": null,
   "id": "ac4b4552",
   "metadata": {},
   "outputs": [],
   "source": [
    "song_id = '...'\n",
    "recommended_songs = recommend_songs(song_id, song_similarity_matrix, songs_data, n=5)\n",
    "print(recommended_songs)"
   ]
  }
 ],
 "metadata": {
  "kernelspec": {
   "display_name": "Python 3 (ipykernel)",
   "language": "python",
   "name": "python3"
  },
  "language_info": {
   "codemirror_mode": {
    "name": "ipython",
    "version": 3
   },
   "file_extension": ".py",
   "mimetype": "text/x-python",
   "name": "python",
   "nbconvert_exporter": "python",
   "pygments_lexer": "ipython3",
   "version": "3.11.5"
  }
 },
 "nbformat": 4,
 "nbformat_minor": 5
}
